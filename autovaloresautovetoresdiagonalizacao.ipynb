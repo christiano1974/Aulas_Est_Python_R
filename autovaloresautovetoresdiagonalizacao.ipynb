{
  "nbformat": 4,
  "nbformat_minor": 0,
  "metadata": {
    "colab": {
      "provenance": [],
      "authorship_tag": "ABX9TyNz8c3YAZ88Efz5H54hQ9N+",
      "include_colab_link": true
    },
    "kernelspec": {
      "name": "python3",
      "display_name": "Python 3"
    },
    "language_info": {
      "name": "python"
    }
  },
  "cells": [
    {
      "cell_type": "markdown",
      "metadata": {
        "id": "view-in-github",
        "colab_type": "text"
      },
      "source": [
        "<a href=\"https://colab.research.google.com/github/christiano1974/Aulas_Est_Python_R/blob/main/autovaloresautovetoresdiagonalizacao.ipynb\" target=\"_parent\"><img src=\"https://colab.research.google.com/assets/colab-badge.svg\" alt=\"Open In Colab\"/></a>"
      ]
    },
    {
      "cell_type": "markdown",
      "source": [
        "# Cálculo dos autovalores e autovetores de uma matriz (operador linear). Diagonalização de uma matriz de um operador linear."
      ],
      "metadata": {
        "id": "Ohf8ZjfNMdl_"
      }
    },
    {
      "cell_type": "code",
      "execution_count": null,
      "metadata": {
        "id": "9UWcl9T_irS3"
      },
      "outputs": [],
      "source": [
        "import numpy as np"
      ]
    },
    {
      "cell_type": "code",
      "source": [
        "# matriz A\n",
        "A = np.matrix('2 4 2; 1 0 1; 1 -4 5')\n",
        "A"
      ],
      "metadata": {
        "colab": {
          "base_uri": "https://localhost:8080/"
        },
        "id": "iva6kYa4ktHA",
        "outputId": "818fe7c0-1865-4731-87a1-0e523ed5055c"
      },
      "execution_count": null,
      "outputs": [
        {
          "output_type": "execute_result",
          "data": {
            "text/plain": [
              "matrix([[ 2,  4,  2],\n",
              "        [ 1,  0,  1],\n",
              "        [ 1, -4,  5]])"
            ]
          },
          "metadata": {},
          "execution_count": 2
        }
      ]
    },
    {
      "cell_type": "code",
      "source": [
        "# os autovalores\n",
        "A_autovalores, A_autovetores = np.linalg.eig(A)"
      ],
      "metadata": {
        "id": "S1dQlJxZl2Ad"
      },
      "execution_count": null,
      "outputs": []
    },
    {
      "cell_type": "code",
      "source": [
        "A_autovalores"
      ],
      "metadata": {
        "colab": {
          "base_uri": "https://localhost:8080/"
        },
        "id": "IdekWNrc2OiU",
        "outputId": "db44fa82-aedd-41b7-9c29-b8d5db6f30fc"
      },
      "execution_count": null,
      "outputs": [
        {
          "output_type": "execute_result",
          "data": {
            "text/plain": [
              "array([ 4., -1.,  4.])"
            ]
          },
          "metadata": {},
          "execution_count": 4
        }
      ]
    },
    {
      "cell_type": "code",
      "source": [
        "A_autovetores"
      ],
      "metadata": {
        "colab": {
          "base_uri": "https://localhost:8080/"
        },
        "id": "cA2ag5z8IojP",
        "outputId": "87222469-e87f-4b10-fc1f-710c83822566"
      },
      "execution_count": null,
      "outputs": [
        {
          "output_type": "execute_result",
          "data": {
            "text/plain": [
              "matrix([[ 0.90453403,  0.81649658, -0.90453403],\n",
              "        [ 0.30151134, -0.40824829, -0.30151134],\n",
              "        [ 0.30151134, -0.40824829, -0.30151134]])"
            ]
          },
          "metadata": {},
          "execution_count": 5
        }
      ]
    },
    {
      "cell_type": "markdown",
      "source": [],
      "metadata": {
        "id": "TgFpUlX72zK_"
      }
    },
    {
      "cell_type": "code",
      "source": [
        "print(\"Lista dos autovalores da matriz A:\")\n",
        "for autovalor in A_autovalores:\n",
        "    print(round(autovalor,0))"
      ],
      "metadata": {
        "colab": {
          "base_uri": "https://localhost:8080/"
        },
        "id": "C261AVXjp1GS",
        "outputId": "b563f33d-1f89-409c-8ebc-78249e1a6dda"
      },
      "execution_count": null,
      "outputs": [
        {
          "output_type": "stream",
          "name": "stdout",
          "text": [
            "Lista dos autovalores da matriz A:\n",
            "4.0\n",
            "-1.0\n",
            "4.0\n"
          ]
        }
      ]
    },
    {
      "cell_type": "code",
      "source": [
        "print(\"Matriz dos autovetores da matriz A:\\n\")\n",
        "print(A_autovetores)"
      ],
      "metadata": {
        "colab": {
          "base_uri": "https://localhost:8080/"
        },
        "id": "2QufOnkErg1d",
        "outputId": "d37a6aac-bc8d-4b26-de3a-5f27d7fcf375"
      },
      "execution_count": null,
      "outputs": [
        {
          "output_type": "stream",
          "name": "stdout",
          "text": [
            "Matriz dos autovetores da matriz A:\n",
            "\n",
            "[[ 0.90453403  0.81649658 -0.90453403]\n",
            " [ 0.30151134 -0.40824829 -0.30151134]\n",
            " [ 0.30151134 -0.40824829 -0.30151134]]\n"
          ]
        }
      ]
    },
    {
      "cell_type": "code",
      "source": [
        "# O determinante da matriz dos autovetores da matriz A é igual a zero. Logo,\n",
        "# os vetores não são L.I. portanto a matriz A não é diagonalizável.\n",
        "print(\"O determinante da matriz dos autovetores é igual: {}\".format(np.linalg.det(A_autovetores)))\n",
        "print(\"Como os vetores não são L.I. (são L.D.) então, a matriz A não é diagonalizável.\")"
      ],
      "metadata": {
        "colab": {
          "base_uri": "https://localhost:8080/"
        },
        "id": "kRi-FQO05N_r",
        "outputId": "a5b30494-3a5d-48fb-a80a-8d9f6497e577"
      },
      "execution_count": null,
      "outputs": [
        {
          "output_type": "stream",
          "name": "stdout",
          "text": [
            "O determinante da matriz dos autovetores é igual: -2.39153262986216e-16\n",
            "Como os vetores não são L.I. (são L.D.) então, a matriz A não é diagonalizável.\n"
          ]
        }
      ]
    },
    {
      "cell_type": "code",
      "source": [
        "# matriz B\n",
        "B = np.matrix([[3,2,1],[1,4,1],[1,2,3]])\n",
        "B"
      ],
      "metadata": {
        "colab": {
          "base_uri": "https://localhost:8080/"
        },
        "id": "Ice_NGEstPjY",
        "outputId": "e9189f98-7107-43fb-9209-32919caeffa8"
      },
      "execution_count": null,
      "outputs": [
        {
          "output_type": "execute_result",
          "data": {
            "text/plain": [
              "matrix([[3, 2, 1],\n",
              "        [1, 4, 1],\n",
              "        [1, 2, 3]])"
            ]
          },
          "metadata": {},
          "execution_count": 16
        }
      ]
    },
    {
      "cell_type": "code",
      "source": [
        "B_autovalores, B_autovetores = np.linalg.eig(B)"
      ],
      "metadata": {
        "id": "llFm5d48z17d"
      },
      "execution_count": null,
      "outputs": []
    },
    {
      "cell_type": "code",
      "source": [
        "print(\"Lista dos autovalores da matriz B:\")\n",
        "for autovalor in B_autovalores:\n",
        "    print(round(autovalor,0))"
      ],
      "metadata": {
        "colab": {
          "base_uri": "https://localhost:8080/"
        },
        "id": "t41dfSymzu4N",
        "outputId": "8bb26094-19d3-425f-b376-c9f76cd7c2e4"
      },
      "execution_count": null,
      "outputs": [
        {
          "output_type": "stream",
          "name": "stdout",
          "text": [
            "Lista dos autovalores da matriz B:\n",
            "2.0\n",
            "6.0\n",
            "2.0\n"
          ]
        }
      ]
    },
    {
      "cell_type": "code",
      "source": [
        "print(\"Matriz dos autovetores da matriz B:\\n\")\n",
        "print(B_autovetores)"
      ],
      "metadata": {
        "colab": {
          "base_uri": "https://localhost:8080/"
        },
        "id": "LVRPZuYZ5xIi",
        "outputId": "ab782b9d-e00e-4e38-c943-606e0484c56b"
      },
      "execution_count": null,
      "outputs": [
        {
          "output_type": "stream",
          "name": "stdout",
          "text": [
            "Matriz dos autovetores da matriz B:\n",
            "\n",
            "[[-0.90453403  0.57735027  0.17690164]\n",
            " [ 0.30151134  0.57735027 -0.50949679]\n",
            " [ 0.30151134  0.57735027  0.84209194]]\n"
          ]
        }
      ]
    },
    {
      "cell_type": "code",
      "source": [
        "# O determinante da matriz dos autovetores da matriz B é diferente de zero.\n",
        "# Logo, os vetores são L.I. e daí a matriz B é diagonalizável.\n",
        "np.linalg.det(B_autovetores)"
      ],
      "metadata": {
        "colab": {
          "base_uri": "https://localhost:8080/"
        },
        "id": "0BS3r3US57Ix",
        "outputId": "674e2f9d-5533-4146-c016-e21ad1d51266"
      },
      "execution_count": null,
      "outputs": [
        {
          "output_type": "execute_result",
          "data": {
            "text/plain": [
              "-0.941125589308534"
            ]
          },
          "metadata": {},
          "execution_count": 20
        }
      ]
    },
    {
      "cell_type": "code",
      "source": [
        "# diagonalização da matriz B (D = inversa(P)*B*P ,\n",
        "# onde P é a matriz dos autovetores da matriz B)\n",
        "D = np.linalg.inv(B_autovetores).dot(B).dot(B_autovetores)\n",
        "print(\"Diagonalização da matriz B:\\n\")\n",
        "print(D.astype(int))"
      ],
      "metadata": {
        "colab": {
          "base_uri": "https://localhost:8080/"
        },
        "id": "JiUSh6ke6qGR",
        "outputId": "7525f423-db3f-4db0-ccf2-1304f838d08c"
      },
      "execution_count": null,
      "outputs": [
        {
          "output_type": "stream",
          "name": "stdout",
          "text": [
            "Diagonalização da matriz B:\n",
            "\n",
            "[[2 0 0]\n",
            " [0 6 0]\n",
            " [0 0 1]]\n"
          ]
        }
      ]
    }
  ]
}