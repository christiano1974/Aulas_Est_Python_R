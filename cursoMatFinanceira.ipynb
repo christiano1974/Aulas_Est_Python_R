{
  "nbformat": 4,
  "nbformat_minor": 0,
  "metadata": {
    "colab": {
      "provenance": [],
      "authorship_tag": "ABX9TyOmzOMfMXhi6H0ulcItf3HD",
      "include_colab_link": true
    },
    "kernelspec": {
      "name": "python3",
      "display_name": "Python 3"
    },
    "language_info": {
      "name": "python"
    }
  },
  "cells": [
    {
      "cell_type": "markdown",
      "metadata": {
        "id": "view-in-github",
        "colab_type": "text"
      },
      "source": [
        "<a href=\"https://colab.research.google.com/github/christiano1974/Aulas_Est_Python_R/blob/main/cursoMatFinanceira.ipynb\" target=\"_parent\"><img src=\"https://colab.research.google.com/assets/colab-badge.svg\" alt=\"Open In Colab\"/></a>"
      ]
    },
    {
      "cell_type": "code",
      "metadata": {
        "id": "GEIW1dJyyuGB"
      },
      "source": [
        "import pandas as pd"
      ],
      "execution_count": null,
      "outputs": []
    },
    {
      "cell_type": "code",
      "metadata": {
        "id": "g2CMm9dEy3uZ"
      },
      "source": [
        "import numpy as np"
      ],
      "execution_count": null,
      "outputs": []
    },
    {
      "cell_type": "code",
      "metadata": {
        "id": "fQEp8r91y77c"
      },
      "source": [
        "L = [ 1,2,3]"
      ],
      "execution_count": null,
      "outputs": []
    },
    {
      "cell_type": "code",
      "metadata": {
        "colab": {
          "base_uri": "https://localhost:8080/"
        },
        "id": "kwL5CjX_zCWl",
        "outputId": "6308544c-87e0-4baa-e8a7-1d3e289d7fe9"
      },
      "source": [
        "L"
      ],
      "execution_count": null,
      "outputs": [
        {
          "output_type": "execute_result",
          "data": {
            "text/plain": [
              "[1, 2, 3]"
            ]
          },
          "metadata": {
            "tags": []
          },
          "execution_count": 4
        }
      ]
    },
    {
      "cell_type": "code",
      "metadata": {
        "colab": {
          "base_uri": "https://localhost:8080/"
        },
        "id": "43RFgyRRzDvV",
        "outputId": "c77d6398-852e-4eab-ac49-0d2fd4d8f4bd"
      },
      "source": [
        "np.sum(L)"
      ],
      "execution_count": null,
      "outputs": [
        {
          "output_type": "execute_result",
          "data": {
            "text/plain": [
              "6"
            ]
          },
          "metadata": {
            "tags": []
          },
          "execution_count": 6
        }
      ]
    },
    {
      "cell_type": "code",
      "metadata": {
        "id": "u48lBWvPzvr7"
      },
      "source": [
        "import statistics as sts"
      ],
      "execution_count": null,
      "outputs": []
    },
    {
      "cell_type": "code",
      "metadata": {
        "colab": {
          "base_uri": "https://localhost:8080/"
        },
        "id": "2T6K4AKYz9f8",
        "outputId": "f33ff4d8-e007-4b80-ed3d-34790d8137ab"
      },
      "source": [
        "sts.mean(L)"
      ],
      "execution_count": null,
      "outputs": [
        {
          "output_type": "execute_result",
          "data": {
            "text/plain": [
              "2"
            ]
          },
          "metadata": {
            "tags": []
          },
          "execution_count": 10
        }
      ]
    },
    {
      "cell_type": "code",
      "metadata": {
        "colab": {
          "base_uri": "https://localhost:8080/"
        },
        "id": "KeAMlhLu0rKd",
        "outputId": "4dbbacdd-d311-4785-db5e-a3aa48ebf493"
      },
      "source": [
        "sts.stdev(L)"
      ],
      "execution_count": null,
      "outputs": [
        {
          "output_type": "execute_result",
          "data": {
            "text/plain": [
              "1.0"
            ]
          },
          "metadata": {
            "tags": []
          },
          "execution_count": 11
        }
      ]
    },
    {
      "cell_type": "code",
      "metadata": {
        "colab": {
          "base_uri": "https://localhost:8080/"
        },
        "id": "V40Z92W20y_L",
        "outputId": "b9f57a09-bd30-4bdd-9679-d0a90ff7a071"
      },
      "source": [
        "np.random.rand(1)"
      ],
      "execution_count": null,
      "outputs": [
        {
          "output_type": "execute_result",
          "data": {
            "text/plain": [
              "array([0.35910942])"
            ]
          },
          "metadata": {
            "tags": []
          },
          "execution_count": 13
        }
      ]
    },
    {
      "cell_type": "code",
      "metadata": {
        "colab": {
          "base_uri": "https://localhost:8080/"
        },
        "id": "ucPAXiCZ06Iu",
        "outputId": "f12766a1-0b12-47cb-c22b-57168b21093d"
      },
      "source": [
        "list(np.random.rand(1))"
      ],
      "execution_count": null,
      "outputs": [
        {
          "output_type": "execute_result",
          "data": {
            "text/plain": [
              "[0.01142099437791222]"
            ]
          },
          "metadata": {
            "tags": []
          },
          "execution_count": 14
        }
      ]
    },
    {
      "cell_type": "code",
      "metadata": {
        "colab": {
          "base_uri": "https://localhost:8080/",
          "height": 163
        },
        "id": "66ucK_nS1GH2",
        "outputId": "119b5471-6ab1-4324-949e-4e49e60066ba"
      },
      "source": [
        "array(L)"
      ],
      "execution_count": null,
      "outputs": [
        {
          "output_type": "error",
          "ename": "NameError",
          "evalue": "ignored",
          "traceback": [
            "\u001b[0;31m---------------------------------------------------------------------------\u001b[0m",
            "\u001b[0;31mNameError\u001b[0m                                 Traceback (most recent call last)",
            "\u001b[0;32m<ipython-input-15-6bf932ef7d73>\u001b[0m in \u001b[0;36m<module>\u001b[0;34m()\u001b[0m\n\u001b[0;32m----> 1\u001b[0;31m \u001b[0marray\u001b[0m\u001b[0;34m(\u001b[0m\u001b[0mL\u001b[0m\u001b[0;34m)\u001b[0m\u001b[0;34m\u001b[0m\u001b[0;34m\u001b[0m\u001b[0m\n\u001b[0m",
            "\u001b[0;31mNameError\u001b[0m: name 'array' is not defined"
          ]
        }
      ]
    },
    {
      "cell_type": "code",
      "metadata": {
        "id": "H8HhTxsE1LHy",
        "outputId": "38e9c84d-8483-4153-8da1-855004d4690e",
        "colab": {
          "base_uri": "https://localhost:8080/"
        }
      },
      "source": [
        "pd.array(L)"
      ],
      "execution_count": null,
      "outputs": [
        {
          "output_type": "execute_result",
          "data": {
            "text/plain": [
              "<IntegerArray>\n",
              "[1, 2, 3]\n",
              "Length: 3, dtype: Int64"
            ]
          },
          "metadata": {
            "tags": []
          },
          "execution_count": 16
        }
      ]
    },
    {
      "cell_type": "code",
      "metadata": {
        "id": "_JhdhWmB1PV6",
        "colab": {
          "base_uri": "https://localhost:8080/"
        },
        "outputId": "18bf1132-1124-48a1-8aa3-74388281edd1"
      },
      "source": [
        "# solução do exercício 1   (A) 4,3 + 3,1 - 2,014\n",
        "round(4.3 + 3.1 - 2.014,3)"
      ],
      "execution_count": null,
      "outputs": [
        {
          "output_type": "execute_result",
          "data": {
            "text/plain": [
              "5.386"
            ]
          },
          "metadata": {},
          "execution_count": 3
        }
      ]
    },
    {
      "cell_type": "code",
      "source": [
        "# solução do exercício 1 (B) 4000 x 5,2 / 2,03\n",
        "round(4000 * 5.2 / 2.03,3)"
      ],
      "metadata": {
        "colab": {
          "base_uri": "https://localhost:8080/"
        },
        "id": "yrzT7Uy7StbY",
        "outputId": "5d56e273-cb91-43b3-d2f2-bd27564944d3"
      },
      "execution_count": null,
      "outputs": [
        {
          "output_type": "execute_result",
          "data": {
            "text/plain": [
              "10246.305"
            ]
          },
          "metadata": {},
          "execution_count": 6
        }
      ]
    },
    {
      "cell_type": "code",
      "source": [
        "# solução do exercício 1 (C) 3,4 elevado 3\n",
        "round(3.4 ** 3,3)"
      ],
      "metadata": {
        "colab": {
          "base_uri": "https://localhost:8080/"
        },
        "id": "N4krYt5aThgN",
        "outputId": "0cd9ab42-6b37-446f-fa01-5c3f7f6ce4b6"
      },
      "execution_count": null,
      "outputs": [
        {
          "output_type": "execute_result",
          "data": {
            "text/plain": [
              "39.304"
            ]
          },
          "metadata": {},
          "execution_count": 8
        }
      ]
    },
    {
      "cell_type": "code",
      "source": [
        "# solução do exercício 1 (D) 4,2 + ln (3,1)\n",
        "from math import log\n",
        "round(4.2 + log(3.1),3)"
      ],
      "metadata": {
        "colab": {
          "base_uri": "https://localhost:8080/"
        },
        "id": "JfkwiQ72T0p1",
        "outputId": "f024e070-47cd-4727-fada-869e9d07871d"
      },
      "execution_count": null,
      "outputs": [
        {
          "output_type": "execute_result",
          "data": {
            "text/plain": [
              "5.331"
            ]
          },
          "metadata": {},
          "execution_count": 9
        }
      ]
    },
    {
      "cell_type": "code",
      "source": [
        "# solução do exercício 1 (E) e^2/3 + 5\n",
        "from math import e\n",
        "round(e**2/3 + 5,3)"
      ],
      "metadata": {
        "colab": {
          "base_uri": "https://localhost:8080/"
        },
        "id": "HQtVv__DU6cn",
        "outputId": "0d146e40-dfb6-4fad-e6c0-31e55b516917"
      },
      "execution_count": null,
      "outputs": [
        {
          "output_type": "execute_result",
          "data": {
            "text/plain": [
              "7.463"
            ]
          },
          "metadata": {},
          "execution_count": 10
        }
      ]
    },
    {
      "cell_type": "code",
      "source": [
        "# solução do exercício 1 (F) 2,75^(145/360)\n",
        "round(2.75**(145/360),3)"
      ],
      "metadata": {
        "colab": {
          "base_uri": "https://localhost:8080/"
        },
        "id": "mLoi5E1GVYPK",
        "outputId": "424ec461-2100-407d-a8ba-e24cefa44956"
      },
      "execution_count": null,
      "outputs": [
        {
          "output_type": "execute_result",
          "data": {
            "text/plain": [
              "1.503"
            ]
          },
          "metadata": {},
          "execution_count": 11
        }
      ]
    },
    {
      "cell_type": "code",
      "source": [
        "from datetime import date, timedelta"
      ],
      "metadata": {
        "id": "OwOIxIRQWaF_"
      },
      "execution_count": null,
      "outputs": []
    },
    {
      "cell_type": "code",
      "source": [
        "# solução do exercício 2\n",
        "data_inicial = date(2005,3,17)\n",
        "data_final = date(2005,5,27)\n",
        "data_final - data_inicial\n"
      ],
      "metadata": {
        "colab": {
          "base_uri": "https://localhost:8080/"
        },
        "id": "uCUGUnsjW63I",
        "outputId": "1a8ad8f3-24e7-44b3-88c8-5e30d7caf4b7"
      },
      "execution_count": null,
      "outputs": [
        {
          "output_type": "execute_result",
          "data": {
            "text/plain": [
              "datetime.timedelta(days=71)"
            ]
          },
          "metadata": {},
          "execution_count": 14
        }
      ]
    },
    {
      "cell_type": "code",
      "source": [
        "# solução do exercício 3\n",
        "data_inicial = date(2005,4,19)\n",
        "data_final = data_inicial + timedelta(41)\n",
        "print(f\"Data do vencimento (calendário): {data_final}\")\n",
        "print(f\"Data do vencimento (semana): {data_final.isoweekday()}\")"
      ],
      "metadata": {
        "colab": {
          "base_uri": "https://localhost:8080/"
        },
        "id": "KDkG_FkqX1GX",
        "outputId": "51ae37c0-3921-48d4-df36-72a82b302e70"
      },
      "execution_count": null,
      "outputs": [
        {
          "output_type": "stream",
          "name": "stdout",
          "text": [
            "Data do vencimento (calendário): 2005-05-30\n",
            "Data do vencimento (semana): 1\n"
          ]
        }
      ]
    },
    {
      "cell_type": "code",
      "source": [
        "# solução do exercício 4\n",
        "data_final = date(2014,2,12)\n",
        "data_inicial = data_final - timedelta(152)\n",
        "print(f\"Data inicial (calendário): {data_inicial}\")\n",
        "print(f\"Data inicial (semanal): {data_inicial.isoweekday()}\")"
      ],
      "metadata": {
        "colab": {
          "base_uri": "https://localhost:8080/"
        },
        "id": "pg026C8yZYjQ",
        "outputId": "abb23387-2511-46ca-cc5f-4f73e5ba25a9"
      },
      "execution_count": null,
      "outputs": [
        {
          "output_type": "stream",
          "name": "stdout",
          "text": [
            "Data inicial (calendário): 2013-09-13\n",
            "Data inicial (semanal): 5\n"
          ]
        }
      ]
    },
    {
      "cell_type": "code",
      "source": [
        "# exercício 1 (percentagem)\n",
        "valorVista = 25000.00\n",
        "n = 72\n",
        "parcela = 450.00\n",
        "juros = parcela*n - valorVista\n",
        "percentual = juros/valorVista\n",
        "round(percentual*100,4)"
      ],
      "metadata": {
        "colab": {
          "base_uri": "https://localhost:8080/"
        },
        "id": "wsB4mbOuFATg",
        "outputId": "101d5ac0-50fb-44ff-c5b0-ea0c42790112"
      },
      "execution_count": null,
      "outputs": [
        {
          "output_type": "execute_result",
          "data": {
            "text/plain": [
              "29.6"
            ]
          },
          "metadata": {},
          "execution_count": 4
        }
      ]
    },
    {
      "cell_type": "code",
      "source": [
        "# exercício 2 (percentagem)\n",
        "valorVista = 150000.00\n",
        "valorConserto = valorVista*0.55\n",
        "custo = valorVista + valorConserto\n",
        "valorVenda = 250000.00\n",
        "valorVenda - custo"
      ],
      "metadata": {
        "colab": {
          "base_uri": "https://localhost:8080/"
        },
        "id": "4zs1o7UcHpzo",
        "outputId": "126f4e7b-210e-4d61-b214-f33780867bec"
      },
      "execution_count": null,
      "outputs": [
        {
          "output_type": "execute_result",
          "data": {
            "text/plain": [
              "17500.0"
            ]
          },
          "metadata": {},
          "execution_count": 6
        }
      ]
    },
    {
      "cell_type": "code",
      "source": [
        "# exercício 3 (percentagem)\n",
        "valorVista = 4000.00\n",
        "desconto = 100.00\n",
        "percentual = desconto/valorVista\n",
        "round(percentual*100,2)"
      ],
      "metadata": {
        "colab": {
          "base_uri": "https://localhost:8080/"
        },
        "id": "qfhIA4oBIjRP",
        "outputId": "632e8611-e887-4284-bf6c-838babff8212"
      },
      "execution_count": null,
      "outputs": [
        {
          "output_type": "execute_result",
          "data": {
            "text/plain": [
              "2.5"
            ]
          },
          "metadata": {},
          "execution_count": 7
        }
      ]
    },
    {
      "cell_type": "code",
      "source": [
        "# exercício 1 (variação percentual)    J = Vfinal/Vinical - 1\n",
        "# Vinicial = Vfinal/(1 + j)\n",
        "valorFinal = 720.00\n",
        "variacaoPercentual = 0.06\n",
        "valorInicial = valorFinal/(1 + variacaoPercentual)\n",
        "round(valorInicial,2)"
      ],
      "metadata": {
        "colab": {
          "base_uri": "https://localhost:8080/"
        },
        "id": "bmHAyoKOKOGC",
        "outputId": "da2f43dc-4d48-4569-a49b-06ba522e7b34"
      },
      "execution_count": null,
      "outputs": [
        {
          "output_type": "execute_result",
          "data": {
            "text/plain": [
              "679.25"
            ]
          },
          "metadata": {},
          "execution_count": 8
        }
      ]
    },
    {
      "cell_type": "code",
      "source": [
        "# exercício 2 (variação percental)\n",
        "print(f\"entrada: R$ {4500.00*0.20}\")\n",
        "prestacao = (4500 - 900)/2\n",
        "print(f\"prestação: R$ {prestacao}\")"
      ],
      "metadata": {
        "colab": {
          "base_uri": "https://localhost:8080/"
        },
        "id": "SIRThiboLZs2",
        "outputId": "68251eba-797f-44eb-e23b-f24bdf7d6072"
      },
      "execution_count": null,
      "outputs": [
        {
          "output_type": "stream",
          "name": "stdout",
          "text": [
            "entrada: R$ 900.0\n",
            "prestação: R$ 1800.0\n"
          ]
        }
      ]
    },
    {
      "cell_type": "code",
      "source": [
        "!pip install numpy-financial"
      ],
      "metadata": {
        "colab": {
          "base_uri": "https://localhost:8080/"
        },
        "id": "IKtxjRLYZwC3",
        "outputId": "4578b996-2a21-4f3c-f422-b24c34f52969"
      },
      "execution_count": null,
      "outputs": [
        {
          "output_type": "stream",
          "name": "stdout",
          "text": [
            "Collecting numpy-financial\n",
            "  Downloading numpy_financial-1.0.0-py3-none-any.whl.metadata (2.2 kB)\n",
            "Requirement already satisfied: numpy>=1.15 in /usr/local/lib/python3.10/dist-packages (from numpy-financial) (1.26.4)\n",
            "Downloading numpy_financial-1.0.0-py3-none-any.whl (14 kB)\n",
            "Installing collected packages: numpy-financial\n",
            "Successfully installed numpy-financial-1.0.0\n"
          ]
        }
      ]
    },
    {
      "cell_type": "code",
      "source": [
        "import numpy_financial as npf"
      ],
      "metadata": {
        "id": "V7iSHjW1eOIL"
      },
      "execution_count": null,
      "outputs": []
    },
    {
      "cell_type": "code",
      "source": [
        "# exercício (exemplo) número 1\n",
        "vf = npf.fv(0.05,5,0,-10000.00)\n",
        "print(f\"Valor futuro: R$ {round(vf,2)}\")\n",
        "J = vf - 10000.00\n",
        "print(f\"Juros ou rendimentos: R$ {round(J,2)}\")"
      ],
      "metadata": {
        "colab": {
          "base_uri": "https://localhost:8080/"
        },
        "id": "ln0sneT7egbz",
        "outputId": "e30845a0-e1f9-4802-80e6-208b92b5c5c3"
      },
      "execution_count": null,
      "outputs": [
        {
          "output_type": "stream",
          "name": "stdout",
          "text": [
            "Valor futuro: R$ 12762.82\n",
            "Juros ou rendimentos: R$ 2762.82\n"
          ]
        }
      ]
    },
    {
      "cell_type": "code",
      "source": [
        "# exercício (exemplo) número 2\n",
        "vf = npf.fv(0.025,18,0,-7000.00)\n",
        "print(f\"Valor futuro: R$ {round(vf,2)}\")\n",
        "J = vf - 7000.00\n",
        "print(f\"Juros ou rendimentos: R$ {round(J,2)}\")"
      ],
      "metadata": {
        "colab": {
          "base_uri": "https://localhost:8080/"
        },
        "id": "XQLp8cENgSKJ",
        "outputId": "fa66972f-fc56-4a3b-d2c9-a1a63b363df0"
      },
      "execution_count": null,
      "outputs": [
        {
          "output_type": "stream",
          "name": "stdout",
          "text": [
            "Valor futuro: R$ 10917.61\n",
            "Juros ou rendimentos: R$ 3917.61\n"
          ]
        }
      ]
    },
    {
      "cell_type": "code",
      "source": [
        "# exercício (exemplo) número 3\n",
        "taxa = npf.rate(10,0,-3000.00,3500.00)\n",
        "print(f\"taxa mensal de juros: {round(taxa*100,2)} % ao mês.\")"
      ],
      "metadata": {
        "colab": {
          "base_uri": "https://localhost:8080/"
        },
        "id": "3C6aZMUshU6j",
        "outputId": "bae49028-2c6c-43cc-f117-6bed3f47c33e"
      },
      "execution_count": null,
      "outputs": [
        {
          "output_type": "stream",
          "name": "stdout",
          "text": [
            "taxa mensal de juros: 1.55 % ao mês.\n"
          ]
        }
      ]
    },
    {
      "cell_type": "code",
      "source": [
        "# exercício (exemplo) número 4\n",
        "meses = npf.nper(0.018,0,-5000.00,5767.00)\n",
        "meses = float(meses)\n",
        "print(f\"o tempo necessário da aplicação: {meses} meses.\")"
      ],
      "metadata": {
        "colab": {
          "base_uri": "https://localhost:8080/"
        },
        "id": "SuLgCLIRi82E",
        "outputId": "b16a4e1c-e96f-462b-a2db-e5a786612743"
      },
      "execution_count": null,
      "outputs": [
        {
          "output_type": "stream",
          "name": "stdout",
          "text": [
            "o tempo necessário da aplicação: 7.999706118187582 meses.\n"
          ]
        }
      ]
    },
    {
      "cell_type": "code",
      "source": [
        "# exercício 1 (A)  taxa anual = 48%     taxa mensal = ?\n",
        "taxa = (1.48)**(30/360) - 1\n",
        "print(f\"taxa mensal: {round(taxa,5)*100} % ao mês.\")"
      ],
      "metadata": {
        "colab": {
          "base_uri": "https://localhost:8080/"
        },
        "id": "xSRVlbh-PiDX",
        "outputId": "822559ba-5975-4402-f8f7-2c9849e119ae"
      },
      "execution_count": null,
      "outputs": [
        {
          "output_type": "stream",
          "name": "stdout",
          "text": [
            "taxa mensal: 3.321 % ao mês.\n"
          ]
        }
      ]
    },
    {
      "cell_type": "code",
      "source": [
        "# exercício 1 (B)  taxa anual = 48%     taxa trimestral = ?\n",
        "taxa = (1.48)**(90/360) - 1\n",
        "print(f\"taxa equivalente: {round(taxa,5)*100} % ao trimestre.\")"
      ],
      "metadata": {
        "colab": {
          "base_uri": "https://localhost:8080/"
        },
        "id": "S69T8TYZT1fT",
        "outputId": "e57246d7-7c2b-46a9-cd80-c8e3f7576a5d"
      },
      "execution_count": null,
      "outputs": [
        {
          "output_type": "stream",
          "name": "stdout",
          "text": [
            "taxa equivalente: 10.297 % ao trimestre.\n"
          ]
        }
      ]
    },
    {
      "cell_type": "code",
      "source": [
        "# exercício 1 (C)  taxa anual = 48%     taxa semestral = ?\n",
        "taxa = (1.48)**(180/360) - 1\n",
        "print(f\"taxa equivalente: {round(taxa,5)*100} % ao semestral.\")"
      ],
      "metadata": {
        "colab": {
          "base_uri": "https://localhost:8080/"
        },
        "id": "3nnbSgm_UfbY",
        "outputId": "89164f06-4280-464a-fc1e-28919885a639"
      },
      "execution_count": null,
      "outputs": [
        {
          "output_type": "stream",
          "name": "stdout",
          "text": [
            "taxa equivalente: 21.654999999999998 % ao semestral.\n"
          ]
        }
      ]
    },
    {
      "cell_type": "code",
      "source": [
        "# exercício 1 (D)  taxa anual = 48%     taxa diária = ?\n",
        "taxa = (1.48)**(1/360) - 1\n",
        "print(f\"taxa equivalente: {round(taxa,5)*100} % ao dia.\")"
      ],
      "metadata": {
        "colab": {
          "base_uri": "https://localhost:8080/"
        },
        "id": "n34lgij3Vabj",
        "outputId": "8d83360a-5ba9-4aa7-9b23-e9d8ab7ee0f9"
      },
      "execution_count": null,
      "outputs": [
        {
          "output_type": "stream",
          "name": "stdout",
          "text": [
            "taxa equivalente: 0.109 % ao dia.\n"
          ]
        }
      ]
    },
    {
      "cell_type": "code",
      "source": [
        "# exercício 2   taxa mensal = 4,5%    ,   taxa dia útil = ?\n",
        "taxa = (1.045)**(1/21) - 1\n",
        "print(f\"taxa equivalente: {round(taxa,5)*100} % em dia útil.\")"
      ],
      "metadata": {
        "id": "Z61YnzaOV4zB"
      },
      "execution_count": null,
      "outputs": []
    },
    {
      "cell_type": "code",
      "source": [
        "# exemplo 1\n",
        "descontoRacional = (50000.00*0.05*3)/(1 + 0.05*3)\n",
        "descontoComercial = 50000.00*0.05*3\n",
        "print(f\"desconto racional: R$ {round(descontoRacional,2)}\\n\")\n",
        "print(f\"desconto comercial: R$ {round(descontoComercial,2)}\")"
      ],
      "metadata": {
        "id": "6NTUGKbeWF8f",
        "colab": {
          "base_uri": "https://localhost:8080/"
        },
        "outputId": "eb10623b-60fb-47bf-a199-24d422d9ea81"
      },
      "execution_count": null,
      "outputs": [
        {
          "output_type": "stream",
          "name": "stdout",
          "text": [
            "desconto racional: R$ 6521.74\n",
            "\n",
            "desconto comercial: R$ 7500.0\n"
          ]
        }
      ]
    },
    {
      "cell_type": "code",
      "source": [
        "# exemplo 2\n",
        "descontoComercial = 9000.00*0.02*2\n",
        "valorAtual = 9000.00 - descontoComercial\n",
        "taxaReal = 0.02/(1 - 0.02*2)\n",
        "print(f\"Desconto comercial: R$ {round(descontoComercial,2)}\\n\")\n",
        "print(f\"Valor atual:R$ {round(valorAtual,2)}\\n\")\n",
        "print(f\"Taxa real: {round(taxaReal,5)*100} % ao mês.\")"
      ],
      "metadata": {
        "id": "wZtuAMrcXVfj",
        "colab": {
          "base_uri": "https://localhost:8080/"
        },
        "outputId": "d63f1c73-7311-4487-dcd0-c70bc171ce2d"
      },
      "execution_count": null,
      "outputs": [
        {
          "output_type": "stream",
          "name": "stdout",
          "text": [
            "Desconto comercial: R$ 360.0\n",
            "\n",
            "Valor atual:R$ 8640.0\n",
            "\n",
            "Taxa real: 2.083 % ao mês.\n"
          ]
        }
      ]
    },
    {
      "cell_type": "code",
      "source": [
        "# exemplo 3\n",
        "descontoComercial = 12000.00 - 11720.00\n",
        "taxaComercial = descontoComercial/(12000.00*45/30)\n",
        "print(\"A taxa de desconto comercial mensal: {:.4} %\".format(taxaComercial*100))"
      ],
      "metadata": {
        "id": "cWHkNYdSYq4a",
        "colab": {
          "base_uri": "https://localhost:8080/"
        },
        "outputId": "cf1fd741-ccf2-481e-d15d-4dbffe0e0070"
      },
      "execution_count": null,
      "outputs": [
        {
          "output_type": "stream",
          "name": "stdout",
          "text": [
            "A taxa de desconto comercial mensal: 1.556 %\n"
          ]
        }
      ]
    },
    {
      "cell_type": "code",
      "source": [],
      "metadata": {
        "id": "RufVhr2tRX9t"
      },
      "execution_count": null,
      "outputs": []
    },
    {
      "cell_type": "code",
      "source": [],
      "metadata": {
        "id": "QlUHYPr6YkuE"
      },
      "execution_count": null,
      "outputs": []
    },
    {
      "cell_type": "code",
      "source": [
        "!pip install numpy-financial"
      ],
      "metadata": {
        "collapsed": true,
        "id": "dnkSOejnSxQJ",
        "colab": {
          "base_uri": "https://localhost:8080/"
        },
        "outputId": "f45e61be-db37-498b-d6bd-4161c0d3aab9"
      },
      "execution_count": null,
      "outputs": [
        {
          "output_type": "stream",
          "name": "stdout",
          "text": [
            "Collecting numpy-financial\n",
            "  Downloading numpy_financial-1.0.0-py3-none-any.whl.metadata (2.2 kB)\n",
            "Requirement already satisfied: numpy>=1.15 in /usr/local/lib/python3.10/dist-packages (from numpy-financial) (1.26.4)\n",
            "Downloading numpy_financial-1.0.0-py3-none-any.whl (14 kB)\n",
            "Installing collected packages: numpy-financial\n",
            "Successfully installed numpy-financial-1.0.0\n"
          ]
        }
      ]
    },
    {
      "cell_type": "code",
      "source": [
        "import numpy_financial as npf"
      ],
      "metadata": {
        "id": "L23QRVt5RYUl"
      },
      "execution_count": null,
      "outputs": []
    },
    {
      "cell_type": "markdown",
      "source": [
        "## Exemplos de séries ou anuidades uniforme ou períodica."
      ],
      "metadata": {
        "id": "jeH0NveHRlax"
      }
    },
    {
      "cell_type": "markdown",
      "source": [],
      "metadata": {
        "id": "MnYiBeh5jyyQ"
      }
    },
    {
      "cell_type": "code",
      "source": [
        "### Exemplo 1 item (A)\n",
        "valorParcela = npf.pmt(0.03,14,132000.00,0,when = 'end')\n",
        "print(\"O valor de cada parcela é igual a R$ {:.2f}\".format(-valorParcela))"
      ],
      "metadata": {
        "id": "7bQxxk_-RiAE"
      },
      "execution_count": null,
      "outputs": []
    },
    {
      "cell_type": "code",
      "source": [
        "round(npf.pmt(0.03,14,132000.00,0,when = 'begin'),2)"
      ],
      "metadata": {
        "id": "4OfNAvLEhTd9"
      },
      "execution_count": null,
      "outputs": []
    },
    {
      "cell_type": "code",
      "source": [
        "### Exemplo 1 item (B)\n",
        "valorParcela = npf.pmt(0.03,14,132000.00,0,when = 'begin')\n",
        "print(\"O valor de cada parcela é igual a R$ {:.2f}\".format(-valorParcela))"
      ],
      "metadata": {
        "id": "1kWFzSuFU_QY",
        "colab": {
          "base_uri": "https://localhost:8080/"
        },
        "outputId": "b27265a9-ca97-4dd5-b165-7a843e752845"
      },
      "execution_count": null,
      "outputs": [
        {
          "output_type": "stream",
          "name": "stdout",
          "text": [
            "O valor de cada parcela é igual a R$ 11345.12\n"
          ]
        }
      ]
    },
    {
      "cell_type": "code",
      "source": [
        "### Exemplo 2\n",
        "vpFinanciamento = npf.pv(0.035,3,-800.00,0,when = 'end')\n",
        "entrada = 3000.0 - vpFinanciamento\n",
        "print(\"O valor da entrada é igual a R$ {:.2f}\".format(entrada))"
      ],
      "metadata": {
        "id": "ZdDPXvbzVdxM",
        "colab": {
          "base_uri": "https://localhost:8080/"
        },
        "outputId": "02214bb4-b4fe-4115-e421-56379a7db107"
      },
      "execution_count": null,
      "outputs": [
        {
          "output_type": "stream",
          "name": "stdout",
          "text": [
            "O valor da entrada é igual a R$ 758.69\n"
          ]
        }
      ]
    },
    {
      "cell_type": "code",
      "source": [
        "round(3000.0 - npf.pv(0.035,3,-800.00,0,when = 'end'),2)"
      ],
      "metadata": {
        "colab": {
          "base_uri": "https://localhost:8080/"
        },
        "id": "9kZF2lAfizv-",
        "outputId": "a55cfd89-e9a6-42b2-8cf4-78764526121b"
      },
      "execution_count": null,
      "outputs": [
        {
          "output_type": "execute_result",
          "data": {
            "text/plain": [
              "758.69"
            ]
          },
          "metadata": {},
          "execution_count": 35
        }
      ]
    },
    {
      "cell_type": "code",
      "source": [
        "### Exemplo 3\n",
        "valorVista = npf.pv(0.045,5,-800.0,0,when = 'begin')\n",
        "print(\"O valor a vista do computador é igual a R$ {:.2f}\".format(valorVista))"
      ],
      "metadata": {
        "id": "61HnM6JvW3bl",
        "colab": {
          "base_uri": "https://localhost:8080/"
        },
        "outputId": "b8889ce6-9000-4e07-aae9-6efcc9dd359f"
      },
      "execution_count": null,
      "outputs": [
        {
          "output_type": "stream",
          "name": "stdout",
          "text": [
            "O valor a vista do computador é igual a R$ 3670.02\n"
          ]
        }
      ]
    },
    {
      "cell_type": "code",
      "source": [
        "round(npf.pv(0.045,5,-800.0,0,when = 'begin'),2)"
      ],
      "metadata": {
        "colab": {
          "base_uri": "https://localhost:8080/"
        },
        "id": "CL33-aJWkMhe",
        "outputId": "8ba9b3bf-89d9-4fcf-ad7e-6078f27fd11a"
      },
      "execution_count": null,
      "outputs": [
        {
          "output_type": "execute_result",
          "data": {
            "text/plain": [
              "3670.02"
            ]
          },
          "metadata": {},
          "execution_count": 37
        }
      ]
    },
    {
      "cell_type": "code",
      "source": [
        "### Exemplo 4\n",
        "valorFuturo = npf.fv(0.021,7,-3500.0,0,when = \"begin\")\n",
        "print(\"O valor do montante após o último depósito é igual a R$ {:.2f}\".format(valorFuturo))"
      ],
      "metadata": {
        "id": "ulzQ2j24XwEc",
        "colab": {
          "base_uri": "https://localhost:8080/"
        },
        "outputId": "4cd5fdb2-01c2-40fd-cb86-f9101409cd03"
      },
      "execution_count": null,
      "outputs": [
        {
          "output_type": "stream",
          "name": "stdout",
          "text": [
            "O valor do montante após o último depósito é igual a R$ 26646.74\n"
          ]
        }
      ]
    },
    {
      "cell_type": "code",
      "source": [
        "round(npf.fv(0.021,7,-3500.0,0,when = \"begin\"),2)"
      ],
      "metadata": {
        "colab": {
          "base_uri": "https://localhost:8080/"
        },
        "id": "xnb3v8EMkxnn",
        "outputId": "fb21e5dc-4d1f-4aac-9974-62936bdad2aa"
      },
      "execution_count": null,
      "outputs": [
        {
          "output_type": "execute_result",
          "data": {
            "text/plain": [
              "26646.74"
            ]
          },
          "metadata": {},
          "execution_count": 39
        }
      ]
    },
    {
      "cell_type": "code",
      "source": [],
      "metadata": {
        "id": "2ebeTwYsn9Db"
      },
      "execution_count": null,
      "outputs": []
    },
    {
      "cell_type": "markdown",
      "source": [
        "## Séries ou Anuidades Diferidas (com prazo de carência)"
      ],
      "metadata": {
        "id": "zG7E3z15oAtP"
      }
    },
    {
      "cell_type": "code",
      "source": [
        "# exemplo 1 item (A)\n",
        "valorPrestacao = round(npf.pmt(0.08,12,round(npf.fv(0.08,2,0,-50000.0),2),0,when = 'begin'),2)\n",
        "print('O valor das prestações é igual a R$ {}'.format(-valorPrestacao))"
      ],
      "metadata": {
        "id": "Sz7QhClJn8rs",
        "colab": {
          "base_uri": "https://localhost:8080/"
        },
        "outputId": "2ee9b05f-f6aa-4352-b14b-0ad6b8a4359b"
      },
      "execution_count": null,
      "outputs": [
        {
          "output_type": "stream",
          "name": "stdout",
          "text": [
            "O valor das prestações é igual a R$ 7165.53\n"
          ]
        }
      ]
    },
    {
      "cell_type": "code",
      "source": [
        "round(npf.pmt(0.08,12,round(npf.fv(0.08,2,0,-50000.0),2),0,when = 'begin'),2)"
      ],
      "metadata": {
        "colab": {
          "base_uri": "https://localhost:8080/"
        },
        "id": "sZzVbSknkNwp",
        "outputId": "2cf26a9b-bebf-4c20-8825-a65f7589e842"
      },
      "execution_count": null,
      "outputs": [
        {
          "output_type": "execute_result",
          "data": {
            "text/plain": [
              "-7165.53"
            ]
          },
          "metadata": {},
          "execution_count": 4
        }
      ]
    },
    {
      "cell_type": "code",
      "source": [
        "# exemplo 1 item (B)\n",
        "valorPrestacao = round(npf.pmt(0.08,12,round(npf.fv(0.08,2,0,-50000.0),2),0,when = 'end'),2)\n",
        "print('O valor das prestações é igual a R$ {}'.format(-valorPrestacao))"
      ],
      "metadata": {
        "id": "enCIEFtOpoag",
        "colab": {
          "base_uri": "https://localhost:8080/"
        },
        "outputId": "f55a9ce7-d881-4dc0-fafd-ffe3aaea03cf"
      },
      "execution_count": null,
      "outputs": [
        {
          "output_type": "stream",
          "name": "stdout",
          "text": [
            "O valor das prestações é igual a R$ 7738.77\n"
          ]
        }
      ]
    },
    {
      "cell_type": "code",
      "source": [
        " round(npf.pmt(0.08,12,round(npf.fv(0.08,2,0,-50000.0),2),0,when = 'end'),2)"
      ],
      "metadata": {
        "colab": {
          "base_uri": "https://localhost:8080/"
        },
        "id": "-eWVQqMFmdHF",
        "outputId": "4526c05e-23be-4f38-cc90-cdacda0801c4"
      },
      "execution_count": null,
      "outputs": [
        {
          "output_type": "execute_result",
          "data": {
            "text/plain": [
              "-7738.77"
            ]
          },
          "metadata": {},
          "execution_count": 5
        }
      ]
    },
    {
      "cell_type": "markdown",
      "source": [
        "## Séries ou Anuidades não uniformes"
      ],
      "metadata": {
        "id": "BNcFyfaog3qS"
      }
    },
    {
      "cell_type": "code",
      "source": [
        "## exemplo 1\n",
        "valorPresente = round(npf.npv(0.05,[0,1000.00,1500.00,-1000.00,1500.00]),2)\n",
        "print(\"O valor presente do fluxo de caixa é igual a R$ {}\".format(valorPresente))"
      ],
      "metadata": {
        "id": "iDO9Q8FjhEHp",
        "colab": {
          "base_uri": "https://localhost:8080/"
        },
        "outputId": "ff299172-9f36-47b7-cdfd-5123ae250106"
      },
      "execution_count": null,
      "outputs": [
        {
          "output_type": "stream",
          "name": "stdout",
          "text": [
            "O valor presente do fluxo de caixa é igual a R$ 2683.14\n"
          ]
        }
      ]
    },
    {
      "cell_type": "code",
      "source": [
        "round(npf.npv(0.05,[0,1000.00,1500.00,-1000.00,1500.00]),2)"
      ],
      "metadata": {
        "colab": {
          "base_uri": "https://localhost:8080/"
        },
        "id": "zGPscdJxl3up",
        "outputId": "b80dcff5-d6f8-4cae-feb9-45ea58c739ae"
      },
      "execution_count": null,
      "outputs": [
        {
          "output_type": "execute_result",
          "data": {
            "text/plain": [
              "2683.14"
            ]
          },
          "metadata": {},
          "execution_count": 4
        }
      ]
    },
    {
      "cell_type": "code",
      "source": [
        "## exemplo 2\n",
        "valorEmprestimo = round(npf.npv(0.065,[0,1500.0,1500.0,1500.0,2000.0,2000.0,3000.0,3500.0]),2)\n",
        "valorPagamento = round(npf.fv(0.065,7,0,valorEmprestimo),2)\n",
        "Juros = valorPagamento + valorEmprestimo\n",
        "print(\"O valor do empréstimo é de R$ {:.2f}\".format(valorEmprestimo))\n",
        "print(\"O valor do pagamento é de R$ {:.2f}\".format(-valorPagamento))\n",
        "print(\"O valor dos juros pagos é de R$ {:.2f}\".format(-Juros))"
      ],
      "metadata": {
        "id": "koF8qnWii2oN",
        "colab": {
          "base_uri": "https://localhost:8080/"
        },
        "outputId": "d09c068a-dd6b-4841-a7f3-29478fba0360"
      },
      "execution_count": null,
      "outputs": [
        {
          "output_type": "stream",
          "name": "stdout",
          "text": [
            "O valor do empréstimo é de R$ 11295.40\n",
            "O valor do pagamento é de R$ 17552.90\n",
            "O valor dos juros pagos é de R$ 6257.50\n"
          ]
        }
      ]
    },
    {
      "cell_type": "code",
      "source": [
        "round(npf.npv(0.065,[0,1500.0,1500.0,1500.0,2000.0,2000.0,3000.0,3500.0]),2)"
      ],
      "metadata": {
        "colab": {
          "base_uri": "https://localhost:8080/"
        },
        "id": "VL45_h7mnIXT",
        "outputId": "b34cc19c-7f5c-480e-b292-1a2f33ac9ee9"
      },
      "execution_count": null,
      "outputs": [
        {
          "output_type": "execute_result",
          "data": {
            "text/plain": [
              "11295.4"
            ]
          },
          "metadata": {},
          "execution_count": 6
        }
      ]
    },
    {
      "cell_type": "code",
      "source": [
        "round(npf.fv(0.065,7,0,11295.4),2)"
      ],
      "metadata": {
        "colab": {
          "base_uri": "https://localhost:8080/"
        },
        "id": "XPYK1PI6nV_Z",
        "outputId": "edd5f3ed-cc9c-41ab-e8e9-0be78cf0d2ce"
      },
      "execution_count": null,
      "outputs": [
        {
          "output_type": "execute_result",
          "data": {
            "text/plain": [
              "-17552.9"
            ]
          },
          "metadata": {},
          "execution_count": 7
        }
      ]
    },
    {
      "cell_type": "code",
      "source": [
        "## exemplo 3\n",
        "entrada = round(npf.npv(0.065,[-450.0,0,0,78.49,78.49,78.49,78.49]),2)\n",
        "print(\"O valor da entrada é de R$ {}\".format(-entrada))"
      ],
      "metadata": {
        "colab": {
          "base_uri": "https://localhost:8080/"
        },
        "id": "U7ok8j8rlHpE",
        "outputId": "3a33f376-b2c4-4388-b435-20bbe22bb814"
      },
      "execution_count": null,
      "outputs": [
        {
          "output_type": "stream",
          "name": "stdout",
          "text": [
            "O valor da entrada é de R$ 212.93\n"
          ]
        }
      ]
    },
    {
      "cell_type": "code",
      "source": [
        "round(npf.npv(0.065,[-450.0,0,0,78.49,78.49,78.49,78.49]),2)"
      ],
      "metadata": {
        "id": "euGWGTpWpLEF",
        "outputId": "0be3cca9-6f4c-42a0-c875-02a55f1028aa",
        "colab": {
          "base_uri": "https://localhost:8080/"
        }
      },
      "execution_count": null,
      "outputs": [
        {
          "output_type": "execute_result",
          "data": {
            "text/plain": [
              "-212.93"
            ]
          },
          "metadata": {},
          "execution_count": 9
        }
      ]
    },
    {
      "cell_type": "markdown",
      "source": [
        "# Juros Compostos em Pyton (Numpy - Financial)"
      ],
      "metadata": {
        "id": "Pq4Upx369e6R"
      }
    },
    {
      "cell_type": "code",
      "source": [
        "### exercício número 1\n",
        "valorFuturo = round(npf.fv(0.05,5,0,-10000.00),2)\n",
        "print(\"O valor futuro ou o montante da aplicação é igual $ {}\".format(valorFuturo))"
      ],
      "metadata": {
        "colab": {
          "base_uri": "https://localhost:8080/"
        },
        "id": "h6Ei9BmJ9nZw",
        "outputId": "8ad98e86-e723-4963-d932-4758d685c3d0"
      },
      "execution_count": null,
      "outputs": [
        {
          "output_type": "stream",
          "name": "stdout",
          "text": [
            "O valor futuro ou o montante da aplicação é igual $ 12762.82\n"
          ]
        }
      ]
    },
    {
      "cell_type": "code",
      "source": [
        "round(npf.fv(0.05,5,0,-10000.00),2)"
      ],
      "metadata": {
        "colab": {
          "base_uri": "https://localhost:8080/"
        },
        "id": "bdz-v0on_YF7",
        "outputId": "1591c3c8-5f9c-497f-cedf-1b5e0263d239"
      },
      "execution_count": null,
      "outputs": [
        {
          "output_type": "execute_result",
          "data": {
            "text/plain": [
              "12762.82"
            ]
          },
          "metadata": {},
          "execution_count": 4
        }
      ]
    },
    {
      "cell_type": "code",
      "source": [
        "### exercício número 2\n",
        "valorFuturo = round(npf.fv(0.025,18,0,-7000.00),2)\n",
        "juros = valorFuturo - 7000.00\n",
        "print(\"O valor dos juros (rendimentos) obtidos na aplicação foi de $ {:.2f}\".format(juros))"
      ],
      "metadata": {
        "colab": {
          "base_uri": "https://localhost:8080/"
        },
        "id": "LSuPHnzm_ydx",
        "outputId": "e922a499-496c-4381-cf0f-5aec9b084a5b"
      },
      "execution_count": null,
      "outputs": [
        {
          "output_type": "stream",
          "name": "stdout",
          "text": [
            "O valor dos juros (rendimentos) obtidos na aplicação foi de $ 3917.61\n"
          ]
        }
      ]
    },
    {
      "cell_type": "code",
      "source": [
        "round(npf.fv(0.025,18,0,-7000.00) - 7000.00,2)"
      ],
      "metadata": {
        "colab": {
          "base_uri": "https://localhost:8080/"
        },
        "id": "3qTjSJqZAek8",
        "outputId": "06bdbe01-045e-4a80-8fe5-0924c8933737"
      },
      "execution_count": null,
      "outputs": [
        {
          "output_type": "execute_result",
          "data": {
            "text/plain": [
              "3917.61"
            ]
          },
          "metadata": {},
          "execution_count": 10
        }
      ]
    },
    {
      "cell_type": "code",
      "source": [
        "### exercício número 3\n",
        "taxaJuros = round(npf.rate(10,0,-3000.00,3500.00)*100,2)\n",
        "print(\"A taxa de juros mensal da aplicação é de {} % \".format(taxaJuros))"
      ],
      "metadata": {
        "colab": {
          "base_uri": "https://localhost:8080/"
        },
        "id": "UIQKTTlGCmMg",
        "outputId": "38df1ea0-6032-4a21-a397-57ed15847ef3"
      },
      "execution_count": null,
      "outputs": [
        {
          "output_type": "stream",
          "name": "stdout",
          "text": [
            "A taxa de juros mensal da aplicação é de 1.55 % \n"
          ]
        }
      ]
    },
    {
      "cell_type": "code",
      "source": [
        "round(npf.rate(10,0,-3000.00,3500.00)*100,2)"
      ],
      "metadata": {
        "colab": {
          "base_uri": "https://localhost:8080/"
        },
        "id": "kcaAJEjTDquy",
        "outputId": "4243ea68-5e42-48c4-de93-2b01a2016cbc"
      },
      "execution_count": null,
      "outputs": [
        {
          "output_type": "execute_result",
          "data": {
            "text/plain": [
              "1.55"
            ]
          },
          "metadata": {},
          "execution_count": 14
        }
      ]
    },
    {
      "cell_type": "code",
      "source": [
        "### exercício número 4\n",
        "periodo = npf.nper(0.018,0,-5000.00,5767.00)\n",
        "print(\"O tempo necessário é de {:.1f} meses\".format(periodo))"
      ],
      "metadata": {
        "colab": {
          "base_uri": "https://localhost:8080/"
        },
        "id": "N_8za-SOEE-n",
        "outputId": "a6a7ac3a-2699-45c1-d5eb-b686750dffc5"
      },
      "execution_count": null,
      "outputs": [
        {
          "output_type": "stream",
          "name": "stdout",
          "text": [
            "O tempo necessário é de 8.0 meses\n"
          ]
        }
      ]
    },
    {
      "cell_type": "code",
      "source": [
        "print(npf.nper(0.018,0,-5000.00,5767.00))\n"
      ],
      "metadata": {
        "colab": {
          "base_uri": "https://localhost:8080/"
        },
        "id": "IXE93CYvEytH",
        "outputId": "3b2012a0-4ffe-4402-ad4e-ccd6462ce47f"
      },
      "execution_count": null,
      "outputs": [
        {
          "output_type": "stream",
          "name": "stdout",
          "text": [
            "7.999706118187582\n"
          ]
        }
      ]
    },
    {
      "cell_type": "code",
      "source": [
        "!pip install numpy-financial"
      ],
      "metadata": {
        "colab": {
          "base_uri": "https://localhost:8080/"
        },
        "id": "lAtWlDN6GJQu",
        "outputId": "d6a73baf-102c-4d3b-9cb3-27ad9eb46e9d"
      },
      "execution_count": null,
      "outputs": [
        {
          "output_type": "stream",
          "name": "stdout",
          "text": [
            "Collecting numpy-financial\n",
            "  Downloading numpy_financial-1.0.0-py3-none-any.whl.metadata (2.2 kB)\n",
            "Requirement already satisfied: numpy>=1.15 in /usr/local/lib/python3.10/dist-packages (from numpy-financial) (1.26.4)\n",
            "Downloading numpy_financial-1.0.0-py3-none-any.whl (14 kB)\n",
            "Installing collected packages: numpy-financial\n",
            "Successfully installed numpy-financial-1.0.0\n"
          ]
        }
      ]
    },
    {
      "cell_type": "code",
      "source": [
        "import numpy_financial as npf"
      ],
      "metadata": {
        "id": "RAutykQ8GLCH"
      },
      "execution_count": null,
      "outputs": []
    },
    {
      "cell_type": "code",
      "source": [
        "VPL = round(npf.npv(0.07,[-150000.00,11250.00,11250.00,161250.00]),2)\n",
        "print(f\"O valor presente líquido do projeto é de R$ {VPL}\\n\")\n",
        "print(f\"Como VPL = R$ {VPL} > 0 então, o projeto é atrativo (projeto viável) !!!\")\n"
      ],
      "metadata": {
        "colab": {
          "base_uri": "https://localhost:8080/"
        },
        "id": "ejMLSGaNGPrH",
        "outputId": "e44ff2cf-e37b-4ec6-bed3-cb6b29e9a3c1"
      },
      "execution_count": null,
      "outputs": [
        {
          "output_type": "stream",
          "name": "stdout",
          "text": [
            "O valor presente líquido do projeto é de R$ 1968.24\n",
            "\n",
            "Como VPL = R$ 1968.24 > 0 então, o projeto é atrativo (projeto viável) !!!\n"
          ]
        }
      ]
    },
    {
      "cell_type": "markdown",
      "source": [
        "Função em Python"
      ],
      "metadata": {
        "id": "T113xLF5iwK2"
      }
    },
    {
      "cell_type": "code",
      "source": [
        "def resgate_liquido (investimento,taxaCDI,taxaSpreadAnual,periodo,IR):\n",
        "  taxaSpreadAjustado = ((1 + taxaSpreadAnual/100)**(periodo/360) - 1)*100\n",
        "  taxaRetornoCDB = taxaCDI + taxaSpreadAjustado\n",
        "  retornoBruto = investimento*(taxaRetornoCDB/100)\n",
        "  retornoLiquido = retornoBruto*(1 - IR/100)\n",
        "  print(f\"O valor do resgete líquido R$ {round(investimento + retornoLiquido,2)}\")"
      ],
      "metadata": {
        "id": "i2BKbFVaiuID"
      },
      "execution_count": null,
      "outputs": []
    },
    {
      "cell_type": "code",
      "source": [
        "resgate_liquido(100000.00,11.75,0.65,390,17.5)"
      ],
      "metadata": {
        "id": "Bjqf7FX9knHK",
        "colab": {
          "base_uri": "https://localhost:8080/"
        },
        "outputId": "d382be92-08e2-440e-a903-59b00eaa671f"
      },
      "execution_count": null,
      "outputs": [
        {
          "output_type": "stream",
          "name": "stdout",
          "text": [
            "O valor do resgete líquido R$ 110274.84\n"
          ]
        }
      ]
    },
    {
      "cell_type": "code",
      "source": [
        "!pip install numpy_financial"
      ],
      "metadata": {
        "colab": {
          "base_uri": "https://localhost:8080/"
        },
        "collapsed": true,
        "id": "IRYkGSAyMl6R",
        "outputId": "3a6cd554-6127-40ca-d273-fca72f72b188"
      },
      "execution_count": null,
      "outputs": [
        {
          "output_type": "stream",
          "name": "stdout",
          "text": [
            "Collecting numpy_financial\n",
            "  Downloading numpy_financial-1.0.0-py3-none-any.whl.metadata (2.2 kB)\n",
            "Requirement already satisfied: numpy>=1.15 in /usr/local/lib/python3.11/dist-packages (from numpy_financial) (1.26.4)\n",
            "Downloading numpy_financial-1.0.0-py3-none-any.whl (14 kB)\n",
            "Installing collected packages: numpy_financial\n",
            "Successfully installed numpy_financial-1.0.0\n"
          ]
        }
      ]
    },
    {
      "cell_type": "code",
      "source": [
        "import numpy_financial as npf"
      ],
      "metadata": {
        "id": "QF0P1R0dM_DK"
      },
      "execution_count": null,
      "outputs": []
    },
    {
      "cell_type": "code",
      "source": [
        "taxa = npf.rate(122/252,0,-943.29,1000)\n",
        "print(\"Taxa de retorno de juros anuais para LTN é {:.2f} %\".format(taxa*100))"
      ],
      "metadata": {
        "colab": {
          "base_uri": "https://localhost:8080/"
        },
        "id": "6Hm_WGH3NGxT",
        "outputId": "ab965b94-30c7-4473-ccf7-0a2cbfdd1d8e",
        "collapsed": true
      },
      "execution_count": null,
      "outputs": [
        {
          "output_type": "stream",
          "name": "stdout",
          "text": [
            "Taxa de retorno de juros anuais para LTN é 12.82 %\n"
          ]
        }
      ]
    },
    {
      "cell_type": "code",
      "source": [
        "taxa_mensal = npf.irr(values = [-200000.00,60000.00,85000.00,62000.00])\n",
        "taxa_anual = (1 + taxa_mensal)**(360/30) - 1\n",
        "print(\"Taxa anual de retorno da aplicação: {:.3f} %\".format(taxa_anual*100) )"
      ],
      "metadata": {
        "colab": {
          "base_uri": "https://localhost:8080/"
        },
        "id": "-Edzek300eu_",
        "outputId": "7fdc59ac-2f0b-4c49-bd77-ad951505a0c6"
      },
      "execution_count": null,
      "outputs": [
        {
          "output_type": "stream",
          "name": "stdout",
          "text": [
            "Taxa anual de retorno da aplicação: 22.867 %\n"
          ]
        }
      ]
    },
    {
      "cell_type": "code",
      "source": [
        "npf.irr(values = [-308668.00,-308668.00,-308668.00,1053846.53])*100"
      ],
      "metadata": {
        "colab": {
          "base_uri": "https://localhost:8080/"
        },
        "id": "bk12u9VPiTqb",
        "outputId": "89314dff-d4ba-42f8-8ad4-20201c5c63f5"
      },
      "execution_count": null,
      "outputs": [
        {
          "output_type": "execute_result",
          "data": {
            "text/plain": [
              "6.607083811214776"
            ]
          },
          "metadata": {},
          "execution_count": 4
        }
      ]
    },
    {
      "cell_type": "code",
      "source": [
        "!pip install numpy_financial"
      ],
      "metadata": {
        "colab": {
          "base_uri": "https://localhost:8080/"
        },
        "collapsed": true,
        "id": "xDdbK5kxEn7F",
        "outputId": "cb9f7522-ef22-43fa-9dcc-53d0d2dd9364"
      },
      "execution_count": null,
      "outputs": [
        {
          "output_type": "stream",
          "name": "stdout",
          "text": [
            "Collecting numpy_financial\n",
            "  Downloading numpy_financial-1.0.0-py3-none-any.whl.metadata (2.2 kB)\n",
            "Requirement already satisfied: numpy>=1.15 in /usr/local/lib/python3.11/dist-packages (from numpy_financial) (2.0.2)\n",
            "Downloading numpy_financial-1.0.0-py3-none-any.whl (14 kB)\n",
            "Installing collected packages: numpy_financial\n",
            "Successfully installed numpy_financial-1.0.0\n"
          ]
        }
      ]
    },
    {
      "cell_type": "code",
      "source": [
        "## definição da função de VF para juros simples\n",
        "def vf_juros_simples(vp,taxa,tempo):\n",
        "  vf = vp*(1 + taxa*tempo)\n",
        "  return round(float(vf),2)"
      ],
      "metadata": {
        "id": "LPe41q_iExeT"
      },
      "execution_count": null,
      "outputs": []
    },
    {
      "cell_type": "code",
      "source": [
        "import pandas as pd\n",
        "import numpy_financial as npf\n",
        "import matplotlib.pyplot as plt\n",
        "%matplotlib inline\n",
        "import numpy as np"
      ],
      "metadata": {
        "id": "V-eE7ATQFMhX"
      },
      "execution_count": null,
      "outputs": []
    },
    {
      "cell_type": "code",
      "source": [
        "anos = np.arange(0,21)\n",
        "anos"
      ],
      "metadata": {
        "colab": {
          "base_uri": "https://localhost:8080/"
        },
        "id": "KJb6VWfkFeL5",
        "outputId": "c9d65704-bd76-42af-b771-c3339eb4e745"
      },
      "execution_count": null,
      "outputs": [
        {
          "output_type": "execute_result",
          "data": {
            "text/plain": [
              "array([ 0,  1,  2,  3,  4,  5,  6,  7,  8,  9, 10, 11, 12, 13, 14, 15, 16,\n",
              "       17, 18, 19, 20])"
            ]
          },
          "metadata": {},
          "execution_count": 5
        }
      ]
    },
    {
      "cell_type": "code",
      "source": [
        "VF_juros_simples = []\n",
        "for ano in anos:\n",
        "  vf = vf_juros_simples(10000.00,0.15,ano)\n",
        "  VF_juros_simples.append(vf)\n",
        "VF_juros_simples"
      ],
      "metadata": {
        "colab": {
          "base_uri": "https://localhost:8080/"
        },
        "collapsed": true,
        "id": "1dDIXaExGWKg",
        "outputId": "82ece374-064c-496a-db9d-8268c6a107f3"
      },
      "execution_count": null,
      "outputs": [
        {
          "output_type": "execute_result",
          "data": {
            "text/plain": [
              "[10000.0,\n",
              " 11500.0,\n",
              " 13000.0,\n",
              " 14500.0,\n",
              " 16000.0,\n",
              " 17500.0,\n",
              " 19000.0,\n",
              " 20500.0,\n",
              " 22000.0,\n",
              " 23500.0,\n",
              " 25000.0,\n",
              " 26500.0,\n",
              " 28000.0,\n",
              " 29500.0,\n",
              " 31000.0,\n",
              " 32500.0,\n",
              " 34000.0,\n",
              " 35500.0,\n",
              " 37000.0,\n",
              " 38500.0,\n",
              " 40000.0]"
            ]
          },
          "metadata": {},
          "execution_count": 15
        }
      ]
    },
    {
      "cell_type": "code",
      "source": [
        "VF_juros_compostos = []\n",
        "for ano in anos:\n",
        "  vf = npf.fv(0.15,ano,0,-10000.00)\n",
        "  VF_juros_compostos.append(round(float(vf),2))\n",
        "VF_juros_compostos"
      ],
      "metadata": {
        "colab": {
          "base_uri": "https://localhost:8080/"
        },
        "collapsed": true,
        "id": "PV7eX4BwIDeX",
        "outputId": "a182b07c-c165-43b5-c4d5-8825766a9d58"
      },
      "execution_count": null,
      "outputs": [
        {
          "output_type": "execute_result",
          "data": {
            "text/plain": [
              "[10000.0,\n",
              " 11500.0,\n",
              " 13225.0,\n",
              " 15208.75,\n",
              " 17490.06,\n",
              " 20113.57,\n",
              " 23130.61,\n",
              " 26600.2,\n",
              " 30590.23,\n",
              " 35178.76,\n",
              " 40455.58,\n",
              " 46523.91,\n",
              " 53502.5,\n",
              " 61527.88,\n",
              " 70757.06,\n",
              " 81370.62,\n",
              " 93576.21,\n",
              " 107612.64,\n",
              " 123754.54,\n",
              " 142317.72,\n",
              " 163665.37]"
            ]
          },
          "metadata": {},
          "execution_count": 19
        }
      ]
    },
    {
      "cell_type": "code",
      "source": [
        "tabela = pd.DataFrame({'ano': anos,'VF_juros_simples': VF_juros_simples,'VF_juros_compostos':VF_juros_compostos})\n",
        "print(\"Tabela de juros simples e juros compostos para uma taxa de 15% a.a.\\n\")\n",
        "print(tabela.iloc[0:11,:])"
      ],
      "metadata": {
        "colab": {
          "base_uri": "https://localhost:8080/"
        },
        "id": "Xv5TD4XXJFiU",
        "outputId": "150bf5c8-daec-4a88-86b8-1832e3b4bc53"
      },
      "execution_count": null,
      "outputs": [
        {
          "output_type": "stream",
          "name": "stdout",
          "text": [
            "Tabela de juros simples e juros compostos para uma taxa de 15% a.a.\n",
            "\n",
            "    ano  VF_juros_simples  VF_juros_compostos\n",
            "0     0           10000.0            10000.00\n",
            "1     1           11500.0            11500.00\n",
            "2     2           13000.0            13225.00\n",
            "3     3           14500.0            15208.75\n",
            "4     4           16000.0            17490.06\n",
            "5     5           17500.0            20113.57\n",
            "6     6           19000.0            23130.61\n",
            "7     7           20500.0            26600.20\n",
            "8     8           22000.0            30590.23\n",
            "9     9           23500.0            35178.76\n",
            "10   10           25000.0            40455.58\n"
          ]
        }
      ]
    },
    {
      "cell_type": "code",
      "source": [
        "plt.figure(figsize = (10,5))\n",
        "plt.plot(tabela['ano'],tabela['VF_juros_simples'],color = 'black')\n",
        "plt.plot(tabela['ano'],tabela['VF_juros_compostos'],color = 'red')\n",
        "plt.title('Gráfico de juros simples e juros compostos taxa de 15% a.a.')\n",
        "plt.xlabel('anos')\n",
        "plt.ylabel('valor futuro em R$')\n",
        "plt.xticks(anos)\n",
        "plt.yticks(np.arange(10000.00,165000.00,20500.0))\n",
        "plt.legend(['juros simples','juros compostos'])\n",
        "plt.grid(True)\n",
        "plt.show()"
      ],
      "metadata": {
        "colab": {
          "base_uri": "https://localhost:8080/",
          "height": 488
        },
        "id": "uFKzsAjaLa5J",
        "outputId": "5a10d4b7-2fe6-4558-d26d-9a689f33ed8f"
      },
      "execution_count": null,
      "outputs": [
        {
          "output_type": "display_data",
          "data": {
            "text/plain": [
              "<Figure size 1000x500 with 1 Axes>"
            ],
            "image/png": "[encoded data removed]"
          },
          "metadata": {}
        }
      ]
    },
    {
      "cell_type": "code",
      "source": [
        "meses = np.arange(0,25)\n",
        "valorFuturo15 = []\n",
        "for mes in meses:\n",
        "  vf = npf.fv(0.115,mes,0,-10000.00)\n",
        "  valorFuturo15.append(round(float(vf),2))\n",
        "valorFuturo16 = []\n",
        "for mes in meses:\n",
        "  vf = npf.fv(0.16,mes,0,-10000.00)\n",
        "  valorFuturo16.append(round(float(vf),2))\n",
        "tabela1 = pd.DataFrame({'mês':meses,'valorFuturo15':valorFuturo15,'valorFuturo16':valorFuturo16})\n",
        "print(tabela1.iloc[0:10,:])"
      ],
      "metadata": {
        "colab": {
          "base_uri": "https://localhost:8080/"
        },
        "id": "HQhVJ7d0RTjJ",
        "outputId": "ab065791-0777-47b6-fc58-d667954acd81"
      },
      "execution_count": null,
      "outputs": [
        {
          "output_type": "stream",
          "name": "stdout",
          "text": [
            "   mês  valorFuturo15  valorFuturo16\n",
            "0    0       10000.00       10000.00\n",
            "1    1       11150.00       11600.00\n",
            "2    2       12432.25       13456.00\n",
            "3    3       13861.96       15608.96\n",
            "4    4       15456.08       18106.39\n",
            "5    5       17233.53       21003.42\n",
            "6    6       19215.39       24363.96\n",
            "7    7       21425.16       28262.20\n",
            "8    8       23889.05       32784.15\n",
            "9    9       26636.29       38029.61\n"
          ]
        }
      ]
    },
    {
      "cell_type": "code",
      "source": [
        "tabela1.plot(x = 'mês', y =['valorFuturo15','valorFuturo16'],figsize = (12,5))\n",
        "plt.title('Gráfico de juros compostos para taxas de 15% a.m. e 16% a.m.')\n",
        "plt.xlabel('meses')\n",
        "plt.xticks(anos)\n",
        "plt.yticks(np.arange(10000.00,365000.00,50000.00))\n",
        "plt.ylabel('valor futuro em R$')\n",
        "plt.grid(True)\n",
        "plt.show()"
      ],
      "metadata": {
        "colab": {
          "base_uri": "https://localhost:8080/",
          "height": 488
        },
        "id": "QsHiSdoIST2Z",
        "outputId": "be990eb4-acd9-4876-a2b8-e347d6cf3831"
      },
      "execution_count": null,
      "outputs": [
        {
          "output_type": "display_data",
          "data": {
            "text/plain": [
              "<Figure size 1200x500 with 1 Axes>"
            ],
            "image/png": "[encoded data removed]"
          },
          "metadata": {}
        }
      ]
    },
    {
      "cell_type": "markdown",
      "source": [
        "  Faça a tabela Price ou sistema de amortização Francês para o pagamento do\n",
        "empréstimos com as seguintes condições:\n",
        "\n",
        "\n",
        "1.   valor do empréstimo: R$ 163.982,69\n",
        "2.   número de prestações: 18\n",
        "3.   taxa de juro: 1 % ao mês  \n",
        "4.   utilize a linguagem Python.\n",
        "\n",
        "## autor: Professor MS. Christiano Garcia."
      ],
      "metadata": {
        "id": "Gdiof0oUNu6d"
      }
    },
    {
      "cell_type": "code",
      "source": [
        "# instalação do pacote Numpy - Financial\n",
        "!pip install numpy_financial"
      ],
      "metadata": {
        "colab": {
          "base_uri": "https://localhost:8080/"
        },
        "id": "AWl_k5D2C2wb",
        "outputId": "4dde08c8-b724-43aa-977f-fa5745d7292d"
      },
      "execution_count": 1,
      "outputs": [
        {
          "output_type": "stream",
          "name": "stdout",
          "text": [
            "Collecting numpy_financial\n",
            "  Downloading numpy_financial-1.0.0-py3-none-any.whl.metadata (2.2 kB)\n",
            "Requirement already satisfied: numpy>=1.15 in /usr/local/lib/python3.11/dist-packages (from numpy_financial) (2.0.2)\n",
            "Downloading numpy_financial-1.0.0-py3-none-any.whl (14 kB)\n",
            "Installing collected packages: numpy_financial\n",
            "Successfully installed numpy_financial-1.0.0\n"
          ]
        }
      ]
    },
    {
      "cell_type": "code",
      "source": [
        "# importação dos pacote: numpy , pandas e numpy_financial\n",
        "import numpy as np\n",
        "import pandas as pd\n",
        "import numpy_financial as npf"
      ],
      "metadata": {
        "id": "DGvQuFHVDhqG"
      },
      "execution_count": 2,
      "outputs": []
    },
    {
      "cell_type": "code",
      "source": [
        "# calculo do valor de cada prestação\n",
        "print('Valor da prestação: R$', -np.round(npf.pmt(0.01,18,163982.69,0,'end'),2))"
      ],
      "metadata": {
        "colab": {
          "base_uri": "https://localhost:8080/"
        },
        "id": "pU-XRGvnDqZT",
        "outputId": "c9e344d7-be18-448d-8de6-abf1ecdbf30c"
      },
      "execution_count": 8,
      "outputs": [
        {
          "output_type": "stream",
          "name": "stdout",
          "text": [
            "Valor da prestação: R$ 10000.0\n"
          ]
        }
      ]
    },
    {
      "cell_type": "code",
      "source": [
        "periodo = np.arange(0,19,1)\n",
        "SD = []\n",
        "juros = []\n",
        "amortizacao = []\n",
        "prestacao = []\n",
        "for n in range(19):\n",
        "  if n == 0:\n",
        "    SD.append(163982.69)\n",
        "    juros.append(0.0)\n",
        "    amortizacao.append(0.0)\n",
        "    prestacao.append(0.0)\n",
        "  else:\n",
        "    prestacao.append(10000.00)\n",
        "    juros.append(SD[n-1]*0.01)\n",
        "    amortizacao.append(10000.00 - juros[n])\n",
        "    SD.append(SD[n-1] - amortizacao[n])\n",
        "SD = [round(x,2) for x in SD]\n",
        "juros = [round(x,2) for x in juros]\n",
        "amortizacao = [round(x,2) for x in amortizacao]\n",
        "prestacao = [round(x,2) for x in prestacao]\n",
        "tabela = pd.DataFrame({'período': periodo,'SD (R$)': SD,'juros (R$)': juros,'amortização (R$)': amortizacao,'prestação (R$)': prestacao})\n",
        "print(tabela)"
      ],
      "metadata": {
        "colab": {
          "base_uri": "https://localhost:8080/"
        },
        "id": "EuFCpKHFGOz3",
        "outputId": "53985c6b-0649-4c9e-c950-f0125df6c35b"
      },
      "execution_count": 41,
      "outputs": [
        {
          "output_type": "stream",
          "name": "stdout",
          "text": [
            "    período    SD (R$)  juros (R$)  amortização (R$)  prestação (R$)\n",
            "0         0  163982.69        0.00              0.00             0.0\n",
            "1         1  155622.52     1639.83           8360.17         10000.0\n",
            "2         2  147178.74     1556.23           8443.77         10000.0\n",
            "3         3  138650.53     1471.79           8528.21         10000.0\n",
            "4         4  130037.03     1386.51           8613.49         10000.0\n",
            "5         5  121337.41     1300.37           8699.63         10000.0\n",
            "6         6  112550.78     1213.37           8786.63         10000.0\n",
            "7         7  103676.29     1125.51           8874.49         10000.0\n",
            "8         8   94713.05     1036.76           8963.24         10000.0\n",
            "9         9   85660.18      947.13           9052.87         10000.0\n",
            "10       10   76516.78      856.60           9143.40         10000.0\n",
            "11       11   67281.95      765.17           9234.83         10000.0\n",
            "12       12   57954.77      672.82           9327.18         10000.0\n",
            "13       13   48534.32      579.55           9420.45         10000.0\n",
            "14       14   39019.66      485.34           9514.66         10000.0\n",
            "15       15   29409.86      390.20           9609.80         10000.0\n",
            "16       16   19703.96      294.10           9705.90         10000.0\n",
            "17       17    9901.00      197.04           9802.96         10000.0\n",
            "18       18       0.01       99.01           9900.99         10000.0\n"
          ]
        }
      ]
    }
  ]
}